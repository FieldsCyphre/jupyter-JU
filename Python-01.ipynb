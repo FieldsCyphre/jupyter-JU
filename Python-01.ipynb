{
 "cells": [
  {
   "cell_type": "markdown",
   "metadata": {},
   "source": [
    "# I Premiers pas avec Python"
   ]
  },
  {
   "cell_type": "markdown",
   "metadata": {},
   "source": [
    "Python est un langage de programmation. Il permet de spécifier à une machine ce qu'elle doit faire dans un langage qu'elle peut interpréter."
   ]
  },
  {
   "cell_type": "markdown",
   "metadata": {},
   "source": [
    "Ici, vous pourrez tester vos premières instructions en Python. Pour exécuter une instruction ou un bloc de plusieurs instructions, vous pouvez, soit cliquer sur le bouton Exécuter au-dessus du texte, soit appuyer sur les touches `Shift+Entrée`."
   ]
  },
  {
   "cell_type": "markdown",
   "metadata": {},
   "source": [
    "Testons tout de suite !"
   ]
  },
  {
   "cell_type": "code",
   "execution_count": null,
   "metadata": {},
   "outputs": [],
   "source": [
    "print(\"Bonjour !\")"
   ]
  },
  {
   "cell_type": "markdown",
   "metadata": {},
   "source": [
    "Comme vous le voyez, la machine a interprété l'instruction qui lui demandait d'afficher le texte `Bonjour !`.\n",
    "Exécutez maintenant le code ci-desous."
   ]
  },
  {
   "cell_type": "code",
   "execution_count": null,
   "metadata": {},
   "outputs": [],
   "source": [
    "# print(\"Bonjour !\")"
   ]
  },
  {
   "cell_type": "markdown",
   "metadata": {},
   "source": [
    "***Pourquoi ne se passe-t-il rien ?***\n",
    "\n",
    "Parce que le symbole `#` (dièse) en début de ligne a indiqué à la machine que cette ligne était un ***commentaire*** et ne devait donc pas être prise en compte. C'est le cas de tout ce qui se trouve après `#`\n",
    "Par exemple, exécutez ceci :"
   ]
  },
  {
   "cell_type": "code",
   "execution_count": null,
   "metadata": {},
   "outputs": [],
   "source": [
    "print(\"Bonjour !\") # Cette ligne sera bien exécutée, mais tout ce qui se trouve avec la dièse non\n",
    "# print(\"Rien ne sera exécuté à cette ligne car c'est un commentaire.\")"
   ]
  },
  {
   "cell_type": "markdown",
   "metadata": {},
   "source": [
    "Les commentaires servent à l'utilisateur humain qui lit le code afin qu'il soit plus clair, mais ne doit jamais être exécuté par la machine."
   ]
  },
  {
   "cell_type": "markdown",
   "metadata": {},
   "source": [
    "En Python, `print` permet d'afficher quelque chose à l'utilisateur humain. On peut afficher plusieurs éléments en les séparant par des virgules."
   ]
  },
  {
   "cell_type": "code",
   "execution_count": null,
   "metadata": {},
   "outputs": [],
   "source": [
    "print(\"J'ai affiché\", 3, \"choses.\")"
   ]
  },
  {
   "cell_type": "markdown",
   "metadata": {},
   "source": [
    "On peut faire bien plus que ça !"
   ]
  },
  {
   "cell_type": "markdown",
   "metadata": {},
   "source": [
    "## A) Les variables"
   ]
  },
  {
   "cell_type": "markdown",
   "metadata": {},
   "source": [
    "Une variable est un espace dans la mémoire de la machine qui dispose d'un nom.\n",
    "On peut lui assigner différentes valeurs que l'on pourra ensuite utiliser ou modifier."
   ]
  },
  {
   "cell_type": "code",
   "execution_count": null,
   "metadata": {},
   "outputs": [],
   "source": [
    "# Créons une variable nommée nombre qui contient la valeur 5\n",
    "nombre = 5\n",
    "print(nombre)"
   ]
  },
  {
   "cell_type": "markdown",
   "metadata": {},
   "source": [
    "En Python, on crée une variable en lui assignant une valeur avec la syntaxe suivante : `nom_de_variable = valeur`"
   ]
  },
  {
   "cell_type": "markdown",
   "metadata": {},
   "source": [
    "Le nom de la variable ne doit pas commencer par un chiffre, et elle ne doit pas comporter d'espace (on utilise _ à la place). La casse (majuscule ou minuscule) est prise en compte."
   ]
  },
  {
   "cell_type": "code",
   "execution_count": null,
   "metadata": {},
   "outputs": [],
   "source": [
    "nombre = 5\n",
    "Nombre = 7\n",
    "print(nombre)\n",
    "print(Nombre) # Il s'agit bien de deux variables différentes"
   ]
  },
  {
   "cell_type": "markdown",
   "metadata": {},
   "source": [
    "On peut changer la valeur d'une variable en utilisant le symbole `=` à n'importe quel moment."
   ]
  },
  {
   "cell_type": "code",
   "execution_count": null,
   "metadata": {},
   "outputs": [],
   "source": [
    "nombre = 5\n",
    "print(nombre)\n",
    "nombre = 8\n",
    "print(nombre)"
   ]
  },
  {
   "cell_type": "code",
   "execution_count": null,
   "metadata": {},
   "outputs": [],
   "source": [
    "nombre = 5\n",
    "print(nombre)\n",
    "nombre = nombre + 4 # Dans la variable nombre, je dépose le résultat de l'opération (nombre + 4)\n",
    "print(nombre)"
   ]
  },
  {
   "cell_type": "markdown",
   "metadata": {},
   "source": [
    "## B) Types de variables"
   ]
  },
  {
   "cell_type": "markdown",
   "metadata": {},
   "source": [
    "Les variables peuvent être de plusieurs types différents. Ce type est la nature de la valeur qu'elle contient.\n",
    "Dans nos exemples, la variable nombre était de type nombre entier.\n",
    "\n",
    "La langue anglaise dominant l'informatique, on utilisera ses appellations. Un nombre entier se dit en anglais integer, on dira donc que la variable nombre était de type int."
   ]
  },
  {
   "cell_type": "code",
   "execution_count": null,
   "metadata": {},
   "outputs": [],
   "source": [
    "print(type(nombre))\n",
    "# Ceci nous affichera le type de la variable nombre, ici int pour integer signifiant nombre entier"
   ]
  },
  {
   "cell_type": "markdown",
   "metadata": {},
   "source": [
    "Il y a de nombreux types différents mais nous en regarderons pour l'instant trois, abrégés en int, str et float.\n",
    "\n",
    "`int` : de l'anglais integer pour nombre entier ;\n",
    "\n",
    "`str` : de l'anglais string pour une chaîne de caractères, du texte ;\n",
    "\n",
    "`float` : de l'anglais floating point pour nombre à virgule flottante, un nombre à virgule.\n",
    "\n",
    "***ATTENTION !!!***\n",
    "\n",
    "Puisqu'on utilise la langue anglaise comme norme, les nombres à virgules sont notés avec un point et non une virgule : `2.5` et non pas `2,5`"
   ]
  },
  {
   "cell_type": "code",
   "execution_count": null,
   "metadata": {},
   "outputs": [],
   "source": [
    "nombre = 5\n",
    "virgule = 2.5\n",
    "texte = \"Bonjour !\"\n",
    "print(type(nombre), type(virgule), type(texte))"
   ]
  },
  {
   "cell_type": "markdown",
   "metadata": {},
   "source": [
    "Comme vous le voyez pour écrire du texte, on le met entre guillemets.\n",
    "\n",
    "On peut aussi le mettre entre apostrophes."
   ]
  },
  {
   "cell_type": "code",
   "execution_count": null,
   "metadata": {},
   "outputs": [],
   "source": [
    "t = \"Bonjour !\"\n",
    "print(t)\n",
    "t = 'Bonjour !'\n",
    "print(t)"
   ]
  },
  {
   "cell_type": "markdown",
   "metadata": {},
   "source": [
    "## C) Opérations"
   ]
  },
  {
   "cell_type": "markdown",
   "metadata": {},
   "source": [
    "On peut utiliser Python de façon basique pour faire des opérations."
   ]
  },
  {
   "cell_type": "code",
   "execution_count": null,
   "metadata": {},
   "outputs": [],
   "source": [
    "a = 5\n",
    "b = 6\n",
    "print(a+b)"
   ]
  },
  {
   "cell_type": "code",
   "execution_count": null,
   "metadata": {},
   "outputs": [],
   "source": [
    "print(a-b)"
   ]
  },
  {
   "cell_type": "code",
   "execution_count": null,
   "metadata": {},
   "outputs": [],
   "source": [
    "print(a*b)"
   ]
  },
  {
   "cell_type": "code",
   "execution_count": null,
   "metadata": {},
   "outputs": [],
   "source": [
    "print(a/b)"
   ]
  },
  {
   "cell_type": "markdown",
   "metadata": {},
   "source": [
    "En plus de la simple division, il existe deux opérations liées : la division entière `//` et le reste `%`."
   ]
  },
  {
   "cell_type": "code",
   "execution_count": null,
   "metadata": {},
   "outputs": [],
   "source": [
    "a = 17\n",
    "b = 5\n",
    "print(a, \"divisé par\", b, \"vaut\", a//b, \"et il reste\", a%b)\n",
    "print(a//b, \"*\", b, \"+\", a%b, \"=\", a)"
   ]
  },
  {
   "cell_type": "markdown",
   "metadata": {},
   "source": [
    "Sur les `str` (le texte), on peut utiliser des opérations comme `+` et `*`."
   ]
  },
  {
   "cell_type": "code",
   "execution_count": null,
   "metadata": {},
   "outputs": [],
   "source": [
    "texte_1 = \"Début, \"\n",
    "texte_2 = \"milieu\"\n",
    "texte_3 = \" et fin.\"\n",
    "texte = texte_1 + texte_2 + texte_3\n",
    "print(texte)"
   ]
  },
  {
   "cell_type": "markdown",
   "metadata": {},
   "source": [
    "On appelle cette opération de coller deux chaînes de caractères l'une à l'autre une ***concaténation***."
   ]
  },
  {
   "cell_type": "code",
   "execution_count": null,
   "metadata": {},
   "outputs": [],
   "source": [
    "t = \"Je suis du texte.\"\n",
    "t_10 = t*10\n",
    "print(t_10)"
   ]
  },
  {
   "cell_type": "markdown",
   "metadata": {},
   "source": [
    "Dans le texte, il y a des caractères spéciaux pour indiquer certaines choses. Par exemple, pour indiquer un retour à la ligne, on utilise `\\n`."
   ]
  },
  {
   "cell_type": "code",
   "execution_count": null,
   "metadata": {},
   "outputs": [],
   "source": [
    "t = \"Je suis du texte.\\n\"\n",
    "t_10 = t*10\n",
    "print(t_10)"
   ]
  },
  {
   "cell_type": "markdown",
   "metadata": {},
   "source": [
    "### Exercices"
   ]
  },
  {
   "cell_type": "code",
   "execution_count": null,
   "metadata": {},
   "outputs": [],
   "source": [
    "# Exercice I.C.1\n",
    "# Affichez 100 fois de suite la phrase : Mon premier exercice en Python !\n",
    "# suivi d'un saut de ligne.\n",
    "# APPELEZ ENSUITE L'ENSEIGNANT.\n",
    "\n",
    "# Votre code :\n"
   ]
  },
  {
   "cell_type": "code",
   "execution_count": null,
   "metadata": {},
   "outputs": [],
   "source": [
    "# Exercice I.C.2\n",
    "# Voici plusieurs variables :\n",
    "a = 56     # de type...\n",
    "b = 2.76   # de type...\n",
    "c = \"5\"    # de type...\n",
    "d = \"4,7\"  # de type...\n",
    "e = 5,3    # de type...\n",
    "# Dans chaque cas, complétez le commentaire pour indiquer leur type\n",
    "# On pourra utiliser l'instruction type\n",
    "# APPELEZ ENSUITE L'ENSEIGNANT."
   ]
  },
  {
   "cell_type": "code",
   "execution_count": null,
   "metadata": {},
   "outputs": [],
   "source": [
    "# Exercice I.C.3\n",
    "# Si j'effectue cette instruction, pourquoi me renvoie-t-on une erreur ?\n",
    "print(\"5\" + 3)\n",
    "# Votre réponse : "
   ]
  },
  {
   "cell_type": "code",
   "execution_count": null,
   "metadata": {},
   "outputs": [],
   "source": [
    "# Exercice I.C.4\n",
    "# Un nombre a est divisible par un nombre b si le reste de la division entière de a par b vaut 0\n",
    "# En utilisant l'opération %, complétez les commentaires de chaque ligne\n",
    "n1 = 7   # divisible par ...\n",
    "n2 = 24  # divisible par ...\n",
    "n3 = 91  # divisible par ...\n",
    "n4 = 9   # divisible par ...\n",
    "n5 = 126 # divisible par ...\n",
    "# Votre code :\n"
   ]
  },
  {
   "cell_type": "markdown",
   "metadata": {},
   "source": [
    "## D) Conversions"
   ]
  },
  {
   "cell_type": "markdown",
   "metadata": {},
   "source": [
    "On peut convertir un type vers un autre, dans certains cas seulement.\n",
    "\n",
    "On peut par exemple convertir le nombre `3` en un texte `\"3\"`, mais on ne peut pas convertir `\"Bonjour !\"` en nombre."
   ]
  },
  {
   "cell_type": "code",
   "execution_count": null,
   "metadata": {},
   "outputs": [],
   "source": [
    "a = 5 # Ici a est un nombre, int\n",
    "print(a*3)\n",
    "a = \"5\" # Ici a est un texte, str\n",
    "print(a*3)\n",
    "a = 5\n",
    "t = str(a) # on convertit a en str et on dépose ça dans la variable t\n",
    "print(t*3)"
   ]
  },
  {
   "cell_type": "code",
   "execution_count": null,
   "metadata": {},
   "outputs": [],
   "source": [
    "t = \"3\"\n",
    "print(t*2) # Ici t est un texte, str\n",
    "print(int(t)*2) # Ici t est converti en nombre entier, int"
   ]
  },
  {
   "cell_type": "code",
   "execution_count": null,
   "metadata": {},
   "outputs": [],
   "source": [
    "print(float(3)) # on peut aussi convertir 3 en nombre à virgule, float\n",
    "print(int(3.5)) # ou convertir un nombre à virgule en nombre entier, int"
   ]
  },
  {
   "cell_type": "code",
   "execution_count": null,
   "metadata": {},
   "outputs": [],
   "source": [
    "print(int(\"trois\")) # on ne peut pas convertir un texte comportant des lettres en nombre"
   ]
  },
  {
   "cell_type": "code",
   "execution_count": null,
   "metadata": {},
   "outputs": [],
   "source": [
    "print(float(\"3.5\"))"
   ]
  },
  {
   "cell_type": "code",
   "execution_count": null,
   "metadata": {},
   "outputs": [],
   "source": [
    "print(int(\"3.5\")) # avec étonnement ce code ne fonctionne pas"
   ]
  },
  {
   "cell_type": "code",
   "execution_count": null,
   "metadata": {},
   "outputs": [],
   "source": [
    "print(int(float(\"3.5\"))) # on convertit d'abord le texte en float, puis après en int"
   ]
  },
  {
   "cell_type": "markdown",
   "metadata": {},
   "source": [
    "### Exercices"
   ]
  },
  {
   "cell_type": "code",
   "execution_count": null,
   "metadata": {},
   "outputs": [],
   "source": [
    "# Exercice I.D.1\n",
    "# Utilisez les bonnes conversions sur le nombre 3 pour afficher un texte valide\n",
    "texte = \"J'ai converti le nombre entier \" + 3 + \" en un nombre à virgule : \" + 3 + \".\"\n",
    "print(texte)"
   ]
  },
  {
   "cell_type": "markdown",
   "metadata": {},
   "source": [
    "### Aller plus loin"
   ]
  },
  {
   "cell_type": "markdown",
   "metadata": {},
   "source": [
    "On peut également utiliser ce qu'on appelle communnément les `f-strings` pour insérer des valeurs ou des variables dans du texte."
   ]
  },
  {
   "cell_type": "code",
   "execution_count": null,
   "metadata": {},
   "outputs": [],
   "source": [
    "# Sans f-string :\n",
    "n = 2.14\n",
    "texte = \"La constante pi vaut environ \" + str(n) + \".\"\n",
    "print(texte)"
   ]
  },
  {
   "cell_type": "code",
   "execution_count": null,
   "metadata": {},
   "outputs": [],
   "source": [
    "# Avec un f-string :\n",
    "n = 2.14\n",
    "texte = f\"La constante pi vaut environ {n}.\"\n",
    "# on met entre accolades {} les variables ou les calculs\n",
    "print(texte)"
   ]
  },
  {
   "cell_type": "markdown",
   "metadata": {},
   "source": [
    "Réécrivez les codes ci-dessous avec des f-strings."
   ]
  },
  {
   "cell_type": "code",
   "execution_count": null,
   "metadata": {},
   "outputs": [],
   "source": [
    "# Exercice I.D.2\n",
    "nom = \"SMITH\"\n",
    "prenom = \"John\"\n",
    "age = 17\n",
    "print(prenom + \" \" + nom + \" a \" + str(age) + \" ans.\")\n",
    "# Votre code :\n",
    "print(f\"\")"
   ]
  },
  {
   "cell_type": "code",
   "execution_count": null,
   "metadata": {},
   "outputs": [],
   "source": [
    "# Exercice I.D.3\n",
    "destinataire = \"John SMITH\"\n",
    "expediteur = \"John DOE\"\n",
    "contenu = \"Tu as bien reçu ma lettre ?\\nRéponds-moi vite.\"\n",
    "print(\"\\tBonjour \" + destinataire + \",\\n\" + contenu + \"\\n\\tCordialement, \" + expediteur + \".\")\n",
    "# Le caractère \\n est un saut de ligne. Le caractère \\t est une tabulation (espace large).\n",
    "# Votre code :\n"
   ]
  },
  {
   "cell_type": "code",
   "execution_count": null,
   "metadata": {},
   "outputs": [],
   "source": [
    "# Exercice I.D.4\n",
    "a = 17\n",
    "b = 5\n",
    "print(str(a) + \" divisé par \" + str(b) + \" vaut \" + str(a//b) + \" et il reste \" + str(a%b) + \".\")\n",
    "# Votre code :\n"
   ]
  },
  {
   "cell_type": "code",
   "execution_count": null,
   "metadata": {},
   "outputs": [],
   "source": []
  }
 ],
 "metadata": {
  "kernelspec": {
   "display_name": "Python 3",
   "language": "python",
   "name": "python3"
  },
  "language_info": {
   "codemirror_mode": {
    "name": "ipython",
    "version": 3
   },
   "file_extension": ".py",
   "mimetype": "text/x-python",
   "name": "python",
   "nbconvert_exporter": "python",
   "pygments_lexer": "ipython3",
   "version": "3.7.2"
  }
 },
 "nbformat": 4,
 "nbformat_minor": 2
}
