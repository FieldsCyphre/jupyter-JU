{
 "cells": [
  {
   "cell_type": "markdown",
   "metadata": {},
   "source": [
    "# III En Fonction de Python"
   ]
  },
  {
   "cell_type": "markdown",
   "metadata": {},
   "source": [
    "## A) Encore quelques fonctions"
   ]
  },
  {
   "cell_type": "markdown",
   "metadata": {},
   "source": [
    "Nous avons déjà vu quelques fonctions de base de Python, comme `print`, ainsi que quelques fonctions venant de modules, comme les modules `math` et `random`."
   ]
  },
  {
   "cell_type": "markdown",
   "metadata": {},
   "source": [
    "La fonction `print` peut prendre autant d'arguments que l'on veut (ou aucun). Elle affiche à l'utilisateur humain le contenu de chacun de ces arguments, les unes à la suite des autres, séparées par un espace."
   ]
  },
  {
   "cell_type": "code",
   "execution_count": null,
   "metadata": {},
   "outputs": [],
   "source": [
    "a = 5\n",
    "b = 2.78\n",
    "c = \"f-strings\"\n",
    "d = f\"Vous vous souvenez des {c} ?\\na vaut {a}.\"\n",
    "print(a,b,c,d)"
   ]
  },
  {
   "cell_type": "markdown",
   "metadata": {},
   "source": [
    "Avant de poursuivre, voyons deux autres fonctions :\n",
    "\n",
    "- `input` qui demande à l'utilisateur humain d'entrer une valeur ;\n",
    "\n",
    "- `abs` qui donne la valeur absolue d'un nombre, `int` ou `float`."
   ]
  },
  {
   "cell_type": "code",
   "execution_count": null,
   "metadata": {},
   "outputs": [],
   "source": [
    "help(abs)"
   ]
  },
  {
   "cell_type": "code",
   "execution_count": null,
   "metadata": {},
   "outputs": [],
   "source": [
    "a = abs(-8)\n",
    "print(a)\n",
    "b = abs(21.78 - 24.8)\n",
    "print(b)"
   ]
  },
  {
   "cell_type": "markdown",
   "metadata": {},
   "source": [
    "La fonction `abs` attend un argument et renvoie sa valeur absolue."
   ]
  },
  {
   "cell_type": "markdown",
   "metadata": {},
   "source": [
    "La fonction `input` peut prendre 0 ou 1 argument.\n",
    "\n",
    "Elle va d'abord afficher le contenu de l'argument à l'utilisateur humain. Puis elle va attendre que cet utilisateur rentre une valeur."
   ]
  },
  {
   "cell_type": "code",
   "execution_count": null,
   "metadata": {},
   "outputs": [],
   "source": [
    "input(\"Veuillez saisir un texte : \")\n",
    "print(\"Merci.\") # Comme vous le verrez, le code est mis en pause\n",
    "# Tant que l'utilisateur, ici vous, n'a pas entré de valeur, la machine attend"
   ]
  },
  {
   "cell_type": "markdown",
   "metadata": {},
   "source": [
    "La fonction `input` ici a renvoyé la valeur saisie par l'utilisateur (dans ce cas, vous). Cependant, il n'y avait aucune variable où ranger cette valeur et elle a été perdue."
   ]
  },
  {
   "cell_type": "code",
   "execution_count": null,
   "metadata": {},
   "outputs": [],
   "source": [
    "a = input(\"Veuillez saisir un texte : \")\n",
    "print(f\"Vous avez saisi : {a}\")"
   ]
  },
  {
   "cell_type": "markdown",
   "metadata": {},
   "source": [
    "***Attention !*** La fonction `input` considérera toujours que l'utilisateur entre du texte, `str`."
   ]
  },
  {
   "cell_type": "code",
   "execution_count": null,
   "metadata": {},
   "outputs": [],
   "source": [
    "nombre = input(\"Veuillez entrer un nombre : \") # Donnez bien un nombre à votre programme\n",
    "print(f\"Vous avez saisi {nombre}.\")\n",
    "print(f\"Il est de type {type(nombre)}.\")\n",
    "print(f\"5*nombre = {5*nombre}\")"
   ]
  },
  {
   "cell_type": "markdown",
   "metadata": {},
   "source": [
    "Ainsi, il faut convertir la valeur renvoyée par `input` dans le type que l'on souhaite, ici par exemple `int`."
   ]
  },
  {
   "cell_type": "code",
   "execution_count": null,
   "metadata": {},
   "outputs": [],
   "source": [
    "nombre = input(\"Veuillez entrer un nombre : \") # Donnez bien un nombre à votre programme\n",
    "nombre = int(nombre) # On convertit en nombre entier\n",
    "print(f\"Vous avez saisi {nombre}.\")\n",
    "print(f\"Il est de type {type(nombre)}.\")\n",
    "print(f\"5*nombre = {5*nombre}\")"
   ]
  },
  {
   "cell_type": "markdown",
   "metadata": {},
   "source": [
    "Il faudra donc être prudent quand vous demandez une valeur à l'utilisateur.\n",
    "\n",
    "Rappelons les trois types vus pour l'instant :\n",
    "\n",
    "- `str` pour le texte ;\n",
    "\n",
    "- `int` pour les nombres entiers ;\n",
    "\n",
    "- `float` pour les nombres à virgule."
   ]
  },
  {
   "cell_type": "markdown",
   "metadata": {},
   "source": [
    "### Exercices"
   ]
  },
  {
   "cell_type": "code",
   "execution_count": null,
   "metadata": {},
   "outputs": [],
   "source": [
    "# Exercice III.A.1\n",
    "# Ce code ne fonctionne pas !\n",
    "a = input()\n",
    "print(abs(a))\n",
    "# Testez-le puis corrigez-le pour qu'il m'affiche la valeur absolue d'un nombre\n",
    "# que je demande à l'utilisateur humain"
   ]
  },
  {
   "cell_type": "code",
   "execution_count": null,
   "metadata": {},
   "outputs": [],
   "source": [
    "# Exercice III.A.2\n",
    "# Créez un code qui demandera un texte à l'utilisateur\n",
    "# puis lui demandera un nombre entier positif, n\n",
    "# et enfin, il affichera le texte n fois de suite\n",
    "\n",
    "# Ainsi, si l'utilisateur entre \"Texte\" et 2, le code affichera\n",
    "# TexteTexte\n",
    "\n",
    "#Votre code :\n",
    "\n",
    "\n",
    "# APPELEZ ENSUITE L'ENSEIGNANT."
   ]
  },
  {
   "cell_type": "markdown",
   "metadata": {},
   "source": [
    "## B) Prenons le contrôle des fonctions"
   ]
  },
  {
   "cell_type": "markdown",
   "metadata": {},
   "source": [
    "Python possède des fonctions par défaut : `print`, `input`, `abs`.\n",
    "\n",
    "Dans les modules, d'autres fonctions existent également.\n",
    "\n",
    "Mais, le plus intéressant, est qu'on peut créer ses propres fonctions si elles n'existent pas déjà."
   ]
  },
  {
   "cell_type": "code",
   "execution_count": null,
   "metadata": {},
   "outputs": [],
   "source": [
    "# Ici, nous créons une fonction appelée bonjour qui affiche \"Bonjour !\"\n",
    "def bonjour():\n",
    "    print(\"Bonjour !\")"
   ]
  },
  {
   "cell_type": "markdown",
   "metadata": {},
   "source": [
    "Quand vous exécutez ce code il ne se passe rien. En effet, vous avez créé une fonction qui s'appelle `bonjour`, mais vous ne l'avez pas utilisée.\n",
    "\n",
    "Faisons-le !"
   ]
  },
  {
   "cell_type": "code",
   "execution_count": null,
   "metadata": {},
   "outputs": [],
   "source": [
    "bonjour()\n",
    "bonjour()"
   ]
  },
  {
   "cell_type": "markdown",
   "metadata": {},
   "source": [
    "Comme vous le voyez, pour l'appeler, je dois forcément mettre les parenthèses après son nom pour dire à la machine que c'est une fonction."
   ]
  },
  {
   "cell_type": "markdown",
   "metadata": {},
   "source": [
    "Regardons le code précédent où nous avons défini `bonjour` :\n",
    "\n",
    "-------------"
   ]
  },
  {
   "cell_type": "markdown",
   "metadata": {},
   "source": [
    "`def bonjour() :`\n",
    "\n",
    "Ici, nous utilisons le mot-clef `def` pour dire que nous allons DÉFINIR une fonction.\n",
    "\n",
    "Ensuite, nous donnons un nom à cette fonction, ici `bonjour`. Comme pour les variables : elle ne peut pas commencer par un chiffre ni avoir d'espaces.\n",
    "\n",
    "Finalement, nous mettons les parenthèses (nous verrons plus tard ce qu'on peut faire avec) et nous terminons la ligne avec `:`.\n",
    "\n",
    "Ces `:` servent à indiquer à la machine que du code reste à venir. En effet, pour l'instant nous avons juste dit que nous allions définir une fonction appelée bonjour, mais il faut maintenant dire ce qu'elle fait.\n",
    "\n",
    "--------------------"
   ]
  },
  {
   "cell_type": "markdown",
   "metadata": {},
   "source": [
    "`print(\"Bonjour !\")`\n",
    "\n",
    "Vous pouvez déjà voir que cette ligne est décalée par rapport à la précédente dans le code.\n",
    "\n",
    "Ce décalage est appelé ***indentation***. Il se fait en général avec la touche Tabulation ou avec 4 espaces. Ici, quand vous tapez votre code, l'éditeur reconnaîtra qu'il faut indenter car vous avez mis `:` à la ligne précédente.\n",
    "\n",
    "L'indentation ici signifie que ce code appartient à la fonction que vous êtes en train de définir. Elle est donc primordiale !\n",
    "\n",
    "Si ma fonction contient plusieurs instructions, chacune devra être indentée de la même manière. Ensemble, elles formeront un ***bloc d'instructions***.\n",
    "\n",
    "Sinon, cette ligne est claire : elle affiche le texte, `str` `\"Bonjour !\"`.\n",
    "\n",
    "----------------------------"
   ]
  },
  {
   "cell_type": "code",
   "execution_count": null,
   "metadata": {},
   "outputs": [],
   "source": [
    "# Voici un exemple de fonction avec plusieurs instructions\n",
    "def bonjour2():\n",
    "    print(\"Bonjour 1!\")\n",
    "    print(\"Bonjour 2!\")\n",
    "# Ma fonction est finie et donc je supprime l'indentation\n",
    "# Maintenant, je peux l'utiliser :\n",
    "\n",
    "bonjour2()\n",
    "bonjour2()"
   ]
  },
  {
   "cell_type": "markdown",
   "metadata": {},
   "source": [
    "### Exercices"
   ]
  },
  {
   "cell_type": "code",
   "execution_count": null,
   "metadata": {},
   "outputs": [],
   "source": [
    "# Exercice III.B.1\n",
    "# Complétez la fonction test pour qu'elle demande un nombre à l'utilisateur\n",
    "# puis qu'elle lui affiche\n",
    "# Votre code :\n",
    "def test():\n",
    "    var = input()\n",
    "    \n",
    "\n",
    "test()"
   ]
  },
  {
   "cell_type": "code",
   "execution_count": null,
   "metadata": {},
   "outputs": [],
   "source": [
    "# Exercice II.B.2\n",
    "# Créez une fonction qu'on appellera premiere_fonction\n",
    "# Elle affichera un texte : \"J'ai fait ma première fonction en Python !\"\n",
    "# Votre code :\n",
    "\n",
    "\n",
    "premiere_fonction()\n",
    "# APPELEZ ENSUITE L'ENSEIGNANT."
   ]
  },
  {
   "cell_type": "markdown",
   "metadata": {},
   "source": [
    "## C) Argumentons !"
   ]
  },
  {
   "cell_type": "markdown",
   "metadata": {},
   "source": [
    "Nous avons vu de nombreuses fonctions qui prennent des arguments : `abs` en prend 1, `math.pow` en prend 2, ..."
   ]
  },
  {
   "cell_type": "markdown",
   "metadata": {},
   "source": [
    "Le nombre d'arguments que peut ou doit prendre une fonction est défini lorsqu'on la crée.\n",
    "\n",
    "Pour cela, on donne un nom à chaque arguments."
   ]
  },
  {
   "cell_type": "code",
   "execution_count": null,
   "metadata": {},
   "outputs": [],
   "source": [
    "# Créons une fonction qui prend deux arguments\n",
    "def repeter(t,n):\n",
    "    print(t*n)"
   ]
  },
  {
   "cell_type": "markdown",
   "metadata": {},
   "source": [
    "Cette fonction `repeter` attend ***exactement*** 2 arguments, sinon il y aura une erreur.\n",
    "\n",
    "Ces deux arguments sont appelés `t` et `n`. Je peux donc les utiliser dans ma fonction, comme des variables. Et j'afficher `t*n`."
   ]
  },
  {
   "cell_type": "code",
   "execution_count": null,
   "metadata": {},
   "outputs": [],
   "source": [
    "# Appelons la fonction repeter\n",
    "repeter(\"Texte à répéter.\",10)"
   ]
  },
  {
   "cell_type": "markdown",
   "metadata": {},
   "source": [
    "Je vois que je suis obligé de lui donner deux arguments.\n",
    "\n",
    "Lorsque j'appelle la fonction `repeter` ainsi, `t` prend la valeur `\"Texte à répéter.\"` et `n` prend la valeur `10`."
   ]
  },
  {
   "cell_type": "code",
   "execution_count": null,
   "metadata": {},
   "outputs": [],
   "source": [
    "repeter(\"Texte\",5)\n",
    "repeter(5,10)"
   ]
  },
  {
   "cell_type": "markdown",
   "metadata": {},
   "source": [
    "On voit que la fonction est mal nommée car si j'entre deux nombres, je ne répète pas le premier, je fais la multiplication."
   ]
  },
  {
   "cell_type": "markdown",
   "metadata": {},
   "source": [
    "On peut corriger ça assez facilement en convertissant `t` en `str` dans la fonction."
   ]
  },
  {
   "cell_type": "code",
   "execution_count": null,
   "metadata": {},
   "outputs": [],
   "source": [
    "def repeter(t,n):\n",
    "    t = str(t)\n",
    "    print(t*n)"
   ]
  },
  {
   "cell_type": "code",
   "execution_count": null,
   "metadata": {},
   "outputs": [],
   "source": [
    "repeter(5,10)"
   ]
  },
  {
   "cell_type": "markdown",
   "metadata": {},
   "source": [
    "Mes arguments peuvent être des variables."
   ]
  },
  {
   "cell_type": "code",
   "execution_count": null,
   "metadata": {},
   "outputs": [],
   "source": [
    "texte = \"Bonjour !\"\n",
    "n = 10\n",
    "repeter(texte,n)"
   ]
  },
  {
   "cell_type": "markdown",
   "metadata": {},
   "source": [
    "Vous voyez que le nom de mes variables n'a pas besoin d'être celui de mes arguments.\n",
    "\n",
    "Ici, ma fonction `repeter` va ranger la valeur de `texte` dans son argument `t` et celle de `n` dans son argument `n`."
   ]
  },
  {
   "cell_type": "code",
   "execution_count": null,
   "metadata": {},
   "outputs": [],
   "source": [
    "# Attention à ce qu'on donne en argument\n",
    "repeter(\"texte\",\"texte\")"
   ]
  },
  {
   "cell_type": "markdown",
   "metadata": {},
   "source": [
    "L'erreur vient ici de ce que ma fonction va tenter de multiplier les deux textes ensemble, ce qui ne fonctionne pas."
   ]
  },
  {
   "cell_type": "markdown",
   "metadata": {},
   "source": [
    "### Exercices"
   ]
  },
  {
   "cell_type": "code",
   "execution_count": null,
   "metadata": {},
   "outputs": [],
   "source": [
    "# Exercice III.C.1\n",
    "# Modifiez la fonction produit ci-dessous pour qu'elle affiche le produit des deux arguments\n",
    "# Votre code :\n",
    "def produit(arg1, arg2):\n",
    "    print()\n",
    "\n",
    "# Testons-la\n",
    "produit(5,8)\n",
    "produit(\"test\",3)"
   ]
  },
  {
   "cell_type": "code",
   "execution_count": null,
   "metadata": {},
   "outputs": [],
   "source": [
    "# Exercice III.C.2\n",
    "# Créons une fonction distance qui prend deux arguments\n",
    "# Par simplicité, on les appellera a et b\n",
    "# Je veux que cette fonction affiche \"La distance entre a et b vaut c.\"\n",
    "# où a et b seront remplacés par leurs valeurs\n",
    "# et c par la distance entre les autres\n",
    "\n",
    "# Ex : distance(2,3) affichera : \"La distance entre 2 et 3 vaut 1.\"\n",
    "\n",
    "# Votre code :\n",
    "\n",
    "\n",
    "# Testons-la\n",
    "distance(2,3)\n",
    "\n",
    "# Indication 1 : utiliser les f-strings : f\"La valeur de a est {a}.\"\n",
    "\n",
    "# Indication 2 : on peut calculer une distance avec abs()\n",
    "\n",
    "# Indication 3 : la distance entre a et b est la valeur absolue de a-b\n",
    "\n",
    "# APPELEZ ENSUITE L'ENSEIGNANT."
   ]
  },
  {
   "cell_type": "markdown",
   "metadata": {},
   "source": [
    "### Aller plus loin"
   ]
  },
  {
   "cell_type": "markdown",
   "metadata": {},
   "source": [
    "Nous allons créer deux fonctions : `encadrement` et `dans_intervalle`."
   ]
  },
  {
   "cell_type": "markdown",
   "metadata": {},
   "source": [
    "-------------\n",
    "\n",
    "La fonction `encadrement` prendra deux arguments : une valeur `x` et une précision `n`.\n",
    "\n",
    "Nous voulons qu'`encadrement` affiche un encadrement de la valeur `x` avec une précision de 10<sup>-n</sup>.\n",
    "\n",
    "Exemple :\n",
    "\n",
    "`encadrement(2.57,1)` affichera : `2.5 < 2.57 < 2.6`, nous avons encadré 2.57 à 10<sup>-1</sup> près."
   ]
  },
  {
   "cell_type": "code",
   "execution_count": null,
   "metadata": {},
   "outputs": [],
   "source": [
    "# Commençons par importer le module math :\n",
    "import math\n",
    "\n",
    "# Rappelons que la puissance se calcule avec math.pow\n",
    "print(math.pow(10,-1))"
   ]
  },
  {
   "cell_type": "code",
   "execution_count": null,
   "metadata": {},
   "outputs": [],
   "source": [
    "# Voici des instructions pour vous donner des idées :\n",
    "x = 2.57\n",
    "print(x*math.pow(10,1))"
   ]
  },
  {
   "cell_type": "code",
   "execution_count": null,
   "metadata": {},
   "outputs": [],
   "source": [
    "print(math.trunc(2.78))\n",
    "print(math.trunc(389.8745))\n",
    "print(math.trunc(-87.25))"
   ]
  },
  {
   "cell_type": "code",
   "execution_count": null,
   "metadata": {},
   "outputs": [],
   "source": [
    "print(math.trunc(27.8)*math.pow(10,-1))"
   ]
  },
  {
   "cell_type": "code",
   "execution_count": null,
   "metadata": {},
   "outputs": [],
   "source": [
    "a = 2.5\n",
    "x = 2.57\n",
    "b = 2.6\n",
    "print(f\"{a} < {x} < {b}\")"
   ]
  },
  {
   "cell_type": "code",
   "execution_count": null,
   "metadata": {},
   "outputs": [],
   "source": [
    "# Exercice III.C.3\n",
    "# À vous de jouer !\n",
    "# Votre code :\n",
    "\n",
    "\n",
    "# Testons-le\n",
    "encadrement(2.56,1)\n",
    "# APPELEZ ENSUITE L'ENSEIGNANT."
   ]
  },
  {
   "cell_type": "code",
   "execution_count": null,
   "metadata": {},
   "outputs": [],
   "source": [
    "# Testons avec des valeurs de n négatives\n",
    "encadrement(527,-2)"
   ]
  },
  {
   "cell_type": "markdown",
   "metadata": {},
   "source": [
    "-------------\n",
    "\n",
    "La fonction `dans_intervalle` sera plus simple. Elle prendra trois arguments : une valeur `x` et deux valeurs `a` et `b`.\n",
    "\n",
    "Elle affichera `True` si `x` est dans l'intervalle `[a,b]` et `False` sinon.\n",
    "\n",
    "Exemple :\n",
    "\n",
    "`dans_intervalle(5,1,8)` affichera : `True` car 5 est dans l'intervalle `[1;8]`.\n",
    "\n",
    "`dans_intervalle(17,1,8)` affichera : `False` car 17 n'est pas dans l'intervalle `[1;8]`."
   ]
  },
  {
   "cell_type": "code",
   "execution_count": null,
   "metadata": {},
   "outputs": [],
   "source": [
    "# Voici des instructions pour vous donner des idées :\n",
    "print(1 <= 5)\n",
    "print(2 > 3 and 8 < 5)"
   ]
  },
  {
   "cell_type": "code",
   "execution_count": null,
   "metadata": {},
   "outputs": [],
   "source": [
    "# Exercice III.C.4\n",
    "# À vous de jouer !\n",
    "# Votre code :\n",
    "\n",
    "\n",
    "# Testons-le\n",
    "dans_intervalle(5,1,8)\n",
    "dans_intervalle(17,1,8)\n",
    "# APPELEZ ENSUITE L'ENSEIGNANT."
   ]
  }
 ],
 "metadata": {
  "kernelspec": {
   "display_name": "Python 3",
   "language": "python",
   "name": "python3"
  },
  "language_info": {
   "codemirror_mode": {
    "name": "ipython",
    "version": 3
   },
   "file_extension": ".py",
   "mimetype": "text/x-python",
   "name": "python",
   "nbconvert_exporter": "python",
   "pygments_lexer": "ipython3",
   "version": "3.7.2"
  }
 },
 "nbformat": 4,
 "nbformat_minor": 2
}
