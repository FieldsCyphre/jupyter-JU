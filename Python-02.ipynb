{
 "cells": [
  {
   "cell_type": "markdown",
   "metadata": {},
   "source": [
    "# II Des Modules en Python"
   ]
  },
  {
   "cell_type": "markdown",
   "metadata": {},
   "source": [
    "## A) Le module `math`"
   ]
  },
  {
   "cell_type": "markdown",
   "metadata": {},
   "source": [
    "Python possède de nombreux modules regorgeant de fonctionnalités nouvelles.\n",
    "\n",
    "Par exemple, le module `math`."
   ]
  },
  {
   "cell_type": "markdown",
   "metadata": {},
   "source": [
    "Pour avoir accès à ces fonctionnalités, il faut les importer depuis le module.\n",
    "\n",
    "Il y a plusieurs possibilités :\n",
    "\n",
    "- importer tout le module\n",
    "\n",
    "- importer seulement les fonctionnalités souhaitées depuis le module"
   ]
  },
  {
   "cell_type": "code",
   "execution_count": null,
   "metadata": {},
   "outputs": [],
   "source": [
    "import math"
   ]
  },
  {
   "cell_type": "markdown",
   "metadata": {},
   "source": [
    "On vient d'importer le module appelé `math`. On va pouvoir utiliser ce qu'il contient.\n",
    "Notamment, il contient la variable `pi`."
   ]
  },
  {
   "cell_type": "code",
   "execution_count": null,
   "metadata": {},
   "outputs": [],
   "source": [
    "print(math.pi)"
   ]
  },
  {
   "cell_type": "code",
   "execution_count": null,
   "metadata": {},
   "outputs": [],
   "source": [
    "print(pi)"
   ]
  },
  {
   "cell_type": "markdown",
   "metadata": {},
   "source": [
    "Comme vous le voyez, on doit préciser que le `pi`qu'on utilise est celui du module `math`grâce à `math.pi`.\n",
    "\n",
    "On pourrait simplement importer `pi` tout seul."
   ]
  },
  {
   "cell_type": "code",
   "execution_count": null,
   "metadata": {},
   "outputs": [],
   "source": [
    "from math import pi\n",
    "\n",
    "print(pi)"
   ]
  },
  {
   "cell_type": "markdown",
   "metadata": {},
   "source": [
    "***Attention !*** L'importation `from math import pi` n'importe que `pi`. Donc le module `math` n'est pas importé, et ainsi, `math.pi` ne marcherait plus.\n",
    "\n",
    "On peut aussi importer plusieurs fonctionnalités du module `math`, ou encore toutes les fonctionnalités grâce à `from math import *`. L'étoile signifiant tout."
   ]
  },
  {
   "cell_type": "code",
   "execution_count": null,
   "metadata": {},
   "outputs": [],
   "source": [
    "from math import cos, sin\n",
    "# on peut utiliser cos, sin, mais pas math.cos ni math.sin\n",
    "print(cos(0))"
   ]
  },
  {
   "cell_type": "code",
   "execution_count": null,
   "metadata": {},
   "outputs": [],
   "source": [
    "from math import *\n",
    "# on a tout importé depuis le module math, mais pas le module lui-même"
   ]
  },
  {
   "cell_type": "markdown",
   "metadata": {},
   "source": [
    "Pour être plus clair et savoir avec quel module on travaille, nous utiliserons `import math`. On peut changer le nom du module avec `import math as m`, maintenant le module s'appellerait `m` et non pas `math`."
   ]
  },
  {
   "cell_type": "code",
   "execution_count": null,
   "metadata": {},
   "outputs": [],
   "source": [
    "import math"
   ]
  },
  {
   "cell_type": "markdown",
   "metadata": {},
   "source": [
    "Le module `math` contient une documentation, que l'on peut voir avec `help(math)`."
   ]
  },
  {
   "cell_type": "code",
   "execution_count": null,
   "metadata": {},
   "outputs": [],
   "source": [
    "help(math)"
   ]
  },
  {
   "cell_type": "markdown",
   "metadata": {},
   "source": [
    "La documentation est un peu longue, aussi on peut ne lui demander la documentation que d'une fonction en particulier, par exemple la fonction cosinus."
   ]
  },
  {
   "cell_type": "code",
   "execution_count": null,
   "metadata": {},
   "outputs": [],
   "source": [
    "help(math.cos)"
   ]
  },
  {
   "cell_type": "markdown",
   "metadata": {},
   "source": [
    "En anglais, la racine carrée se dit square root. Cette fonction existe dans le module `math`. Trouvez-la dans la documentation et calculez la racine carrée de 2 :"
   ]
  },
  {
   "cell_type": "code",
   "execution_count": null,
   "metadata": {},
   "outputs": [],
   "source": [
    "# Calculez la racine carrée de 2 en complétant la ligne ci-dessous :\n",
    "racine_2 = math.\n",
    "print(racine_2)"
   ]
  },
  {
   "cell_type": "markdown",
   "metadata": {},
   "source": [
    "Dans ce fichier, vous pouvez utiliser la touche tabulation après avoir tapé `math.` et on vous proposera une liste de toutes les fonctionnalités du module."
   ]
  },
  {
   "cell_type": "markdown",
   "metadata": {},
   "source": [
    "Le module `math` contient par exemple la fonction `math.pow` qui calcule la puissance d'un nombre par un autre."
   ]
  },
  {
   "cell_type": "code",
   "execution_count": null,
   "metadata": {},
   "outputs": [],
   "source": [
    "print(math.pow(3,2)) # on calcule 3 à la puissance 2, ou encore 3 au carré"
   ]
  },
  {
   "cell_type": "markdown",
   "metadata": {},
   "source": [
    "Vous voyez que le résultat est un `float` même si 3 et 2 sont des `int`."
   ]
  },
  {
   "cell_type": "markdown",
   "metadata": {},
   "source": [
    "### Exercices"
   ]
  },
  {
   "cell_type": "code",
   "execution_count": null,
   "metadata": {},
   "outputs": [],
   "source": [
    "# Exercice II.A.1\n",
    "# Vérifiez que le carré de la racine carrée de 125 donne bien 125\n",
    "# Votre code :\n"
   ]
  },
  {
   "cell_type": "code",
   "execution_count": null,
   "metadata": {},
   "outputs": [],
   "source": [
    "# Exercice II.A.2\n",
    "# Calculez le cube de 27\n",
    "# Votre code :\n",
    "\n",
    "\n",
    "# APPELEZ ENSUITE L'ENSEIGNANT."
   ]
  },
  {
   "cell_type": "markdown",
   "metadata": {},
   "source": [
    "## B) Le module `random`"
   ]
  },
  {
   "cell_type": "markdown",
   "metadata": {},
   "source": [
    "Il existe bien d'autres modules, permettant d'effectuer des calculs, de modifier des fichiers (textes, images, audios, vidéos, ...), ...\n",
    "\n",
    "Nous aurons l'occasion d'utiliser quelques modules, comme par exemple `random`."
   ]
  },
  {
   "cell_type": "markdown",
   "metadata": {},
   "source": [
    "Dans le module `random`, nous n'utiliserons que deux fonctions : `random()` et `randint()`"
   ]
  },
  {
   "cell_type": "code",
   "execution_count": null,
   "metadata": {},
   "outputs": [],
   "source": [
    "from random import random, randint"
   ]
  },
  {
   "cell_type": "code",
   "execution_count": null,
   "metadata": {},
   "outputs": [],
   "source": [
    "help(randint)\n",
    "help(random)"
   ]
  },
  {
   "cell_type": "markdown",
   "metadata": {},
   "source": [
    "***Rappel :*** Si nous avions utilisé `import random`, il aurait fallu utiliser `random.random` et `random.randint`. Comme nous ne voulons que deux fonctions, inutile de surcharger la mémoire en important le reste."
   ]
  },
  {
   "cell_type": "markdown",
   "metadata": {},
   "source": [
    "Comme l'indique la documentation :\n",
    "\n",
    "- `random()` est une fonction qui renvoie un nombre entre 0 et 1, 1 exclus (`[0,1)`).\n",
    "\n",
    "- `randint()` est une fonction à laquelle il faut donner deux nombres a et b. Elle renvoie un nombre entier `int` compris entre a et b, tous deux inclus."
   ]
  },
  {
   "cell_type": "code",
   "execution_count": null,
   "metadata": {},
   "outputs": [],
   "source": [
    "print(random()) # random est forcément suivi de parenthèses car c'est une fonction\n",
    "print(randint(3,8)) # randint attend deux nombres a et b\n",
    "# il faut les mettre entre les parenthèses de la fonction, séparés par une virgule"
   ]
  },
  {
   "cell_type": "markdown",
   "metadata": {},
   "source": [
    "Exécutez plusieurs fois le code ci-dessus pour voir l'aléatoire se produire."
   ]
  },
  {
   "cell_type": "markdown",
   "metadata": {},
   "source": [
    "On dit que la fonction `randint` attend ***deux arguments*** et que la fonction `random` n'attend ***aucun argument***.\n",
    "\n",
    "Quand on appelle une fonction, avec ou sans argument, il faut impérativement mettre les parenthèses, pour indiquer à la machine qu'il s'agit d'une fonction.\n",
    "\n",
    "Les arguments sont des données qu'il faut indiquer à la fonction : on les met entre les parenthèses, séparés par des virgules s'il y en a plusieurs.\n",
    "\n",
    "Par exemple, `math.sqrt` était une fonction qui attendait un argument.\n",
    "\n",
    "Si vous ne mettez pas assez, ou trop, d'arguments, il y aura une erreur :"
   ]
  },
  {
   "cell_type": "code",
   "execution_count": null,
   "metadata": {},
   "outputs": [],
   "source": [
    "randint(3)"
   ]
  },
  {
   "cell_type": "markdown",
   "metadata": {},
   "source": [
    "Les arguments doivent être donnés dans l'ordre. L'ordre est indiqué dans le documentation.\n",
    "\n",
    "Ici `randint` demande a et b, sachant que a est le début de l'intervalle et b la fin."
   ]
  },
  {
   "cell_type": "code",
   "execution_count": null,
   "metadata": {},
   "outputs": [],
   "source": [
    "randint(9,3)"
   ]
  },
  {
   "cell_type": "markdown",
   "metadata": {},
   "source": [
    "En inversant l'ordre des arguments que j'ai envoyés à la fonction `randint`, il y a évidemment eu une erreur."
   ]
  },
  {
   "cell_type": "markdown",
   "metadata": {},
   "source": [
    "### Exercices"
   ]
  },
  {
   "cell_type": "code",
   "execution_count": null,
   "metadata": {},
   "outputs": [],
   "source": [
    "# Exercice II.B.1\n",
    "# Créez une variable r, qui sera un nombre entier aléatoire entre 1 et 100\n",
    "# Votre code :\n"
   ]
  },
  {
   "cell_type": "code",
   "execution_count": null,
   "metadata": {},
   "outputs": [],
   "source": [
    "# Exercice II.B.2\n",
    "# Créez une variable r_virgule, qui sera un nombre à virgule aléatoire\n",
    "# entre 1 et 100\n",
    "# Votre code :\n",
    "\n",
    "# APPELEZ ENSUITE L'ENSEIGNANT."
   ]
  },
  {
   "cell_type": "markdown",
   "metadata": {},
   "source": [
    "## C) Conditions"
   ]
  },
  {
   "cell_type": "markdown",
   "metadata": {},
   "source": [
    "En plus des calculs, Python permet de tester si des conditions sont vraies `True` ou fausses `False`."
   ]
  },
  {
   "cell_type": "code",
   "execution_count": null,
   "metadata": {},
   "outputs": [],
   "source": [
    "print(5 < 7)"
   ]
  },
  {
   "cell_type": "code",
   "execution_count": null,
   "metadata": {},
   "outputs": [],
   "source": [
    "print(8 > 9)"
   ]
  },
  {
   "cell_type": "code",
   "execution_count": null,
   "metadata": {},
   "outputs": [],
   "source": [
    "print(17 <= 6)"
   ]
  },
  {
   "cell_type": "code",
   "execution_count": null,
   "metadata": {},
   "outputs": [],
   "source": [
    "print(8 >= 23)"
   ]
  },
  {
   "cell_type": "markdown",
   "metadata": {},
   "source": [
    "Comme le symbole `=` est déjà utilisé pour assigner une valeur à une variable, on utilisera `==` pour vérifier si deux objets sont égaux.\n",
    "\n",
    "On utilisera aussi `!=` pour vérifier s'ils sont différents."
   ]
  },
  {
   "cell_type": "code",
   "execution_count": null,
   "metadata": {},
   "outputs": [],
   "source": [
    "print(5==5)\n",
    "print(6!=7)"
   ]
  },
  {
   "cell_type": "markdown",
   "metadata": {},
   "source": [
    "On verra aussi qu'on peut utiliser les mots `or` et `and` pour des conditions plus complexes."
   ]
  },
  {
   "cell_type": "code",
   "execution_count": null,
   "metadata": {},
   "outputs": [],
   "source": [
    "a = 4\n",
    "b = 8\n",
    "print(a==b)\n",
    "print(a==b or a < b)"
   ]
  },
  {
   "cell_type": "markdown",
   "metadata": {},
   "source": [
    "### Exercices"
   ]
  },
  {
   "cell_type": "code",
   "execution_count": null,
   "metadata": {},
   "outputs": [],
   "source": [
    "# Exercice II.C.1\n",
    "# On a deux variables a et b\n",
    "a = 26780\n",
    "b = 156\n",
    "# On veut vérifier si a est divisible par b\n",
    "# Rappel : a est divisible par b si son reste par la divsion entière, %, est nul\n",
    "# Votre code :\n"
   ]
  },
  {
   "cell_type": "code",
   "execution_count": null,
   "metadata": {},
   "outputs": [],
   "source": [
    "# Exercice II.C.2\n",
    "# On a trois nombres a, b et c\n",
    "a = 0.57689\n",
    "b = 0.57692\n",
    "c = 0.57698\n",
    "# On veut vérifier si b est entre a et c\n",
    "# donc b doit être plus grand que a\n",
    "# et plus petit que c\n",
    "# Votre code :\n",
    "\n",
    "\n",
    "# APPELEZ ENSUITE L'ENSEIGNANT."
   ]
  },
  {
   "cell_type": "markdown",
   "metadata": {},
   "source": [
    "### Aller plus loin"
   ]
  },
  {
   "cell_type": "markdown",
   "metadata": {},
   "source": [
    "Supposons qu'un événement a 60% de chance d'arriver. Je veux simuler cette probabilité sur un ordinateur."
   ]
  },
  {
   "cell_type": "code",
   "execution_count": null,
   "metadata": {},
   "outputs": [],
   "source": [
    "# Exercice II.C.3\n",
    "# Je pourrais demander un entier aléatoire entre 1 et 100\n",
    "r = randint(1,100)\n",
    "# Si r est plus petit ou égal à 60, on peut considérer que l'événement a eu lieu\n",
    "# Votre code :\n"
   ]
  },
  {
   "cell_type": "markdown",
   "metadata": {},
   "source": [
    "Le défaut de cette méthode est que r ne varie pas énormément. Pour avoir une situation plus réaliste, il me faut travailler avec `random`."
   ]
  },
  {
   "cell_type": "code",
   "execution_count": null,
   "metadata": {},
   "outputs": [],
   "source": [
    "# Exercice II.C.4\n",
    "# Je commence par calculer un nombre aléatoire entre 0 et 1 :\n",
    "r = random()\n",
    "# Je compare alors r à la probabilité : 0.6\n",
    "print(r*100 <= 60)\n",
    "\n",
    "# ou encore :\n",
    "print(r <= 0.6)"
   ]
  },
  {
   "cell_type": "markdown",
   "metadata": {},
   "source": [
    "Vous pouvez exécuter plusieurs fois ces codes pour voir l'aléatoire à l'oeuvre."
   ]
  },
  {
   "cell_type": "code",
   "execution_count": null,
   "metadata": {},
   "outputs": [],
   "source": [
    "# Programmez un code qui vérifie si un événement avec 99% de chance d'arriver\n",
    "# est arrivé ou non, en utilisant random()\n",
    "# Votre code :\n",
    "\n",
    "# APPELEZ ENSUITE L'ENSEIGNANT."
   ]
  }
 ],
 "metadata": {
  "kernelspec": {
   "display_name": "Python 3",
   "language": "python",
   "name": "python3"
  },
  "language_info": {
   "codemirror_mode": {
    "name": "ipython",
    "version": 3
   },
   "file_extension": ".py",
   "mimetype": "text/x-python",
   "name": "python",
   "nbconvert_exporter": "python",
   "pygments_lexer": "ipython3",
   "version": "3.7.2"
  }
 },
 "nbformat": 4,
 "nbformat_minor": 2
}
